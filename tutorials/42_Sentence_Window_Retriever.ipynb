{
  "cells": [
    {
      "cell_type": "markdown",
      "metadata": {
        "id": "view-in-github",
        "colab_type": "text"
      },
      "source": [
        "<a href=\"https://colab.research.google.com/github/fajarph/27_First_RAG_Pipeline/blob/main/tutorials/42_Sentence_Window_Retriever.ipynb\" target=\"_parent\"><img src=\"https://colab.research.google.com/assets/colab-badge.svg\" alt=\"Open In Colab\"/></a>"
      ]
    },
    {
      "cell_type": "markdown",
      "id": "b79cad40-2c9c-4598-8195-0d6cf525ff87",
      "metadata": {
        "id": "b79cad40-2c9c-4598-8195-0d6cf525ff87"
      },
      "source": [
        "# Tutorial: Retrieving a Context Window Around a Sentence\n",
        "\n",
        "- **Level**: Beginner\n",
        "- **Time to complete**: 10 minutes\n",
        "- **Components Used**: [`SentenceWindowRetriever`](https://docs.haystack.deepset.ai/docs/sentencewindowretrieval),\n",
        "[`DocumentSplitter`](https://docs.haystack.deepset.ai/docs/documentsplitter), [`InMemoryDocumentStore`](https://docs.haystack.deepset.ai/docs/inmemorydocumentstore), [`InMemoryBM25Retriever`](https://docs.haystack.deepset.ai/docs/inmemorybm25retriever)\n",
        "- **Goal**: After completing this tutorial, you will have learned about Sentence-Window Retrieval and how to use it for document retrieval.\n",
        "\n",
        "## Overview\n",
        "\n",
        "The Sentence-Window retrieval technique is a simple and effective way to retrieve more context given a user query which matched some document. It is based on the idea that the most relevant sentences are likely to be close to each other in the document. The technique involves selecting a window of sentences around a sentence matching a user query and instead of returning the matching sentence, the entire window is returned. This technique can be particularly useful when the user query is a question or a phrase that requires more context to be understood.\n",
        "\n",
        "The [`SentenceWindowRetriever`](https://docs.haystack.deepset.ai/docs/sentencewindowretrieval) can be used in a Pipeline to implement the Sentence-Window retrieval technique.\n",
        "\n",
        "The component takes a `document_store` and a `window_size` as input. The `document_store` contains the documents we want to query, and the `window_size` is used to determine the number of sentences to return around the matching sentence. So the number of sentences returned will be `2 * window_size + 1`. Although we use the term \"sentence\" as it's inertly attached to this technique, the `SentenceWindowRetriever` actually works with any splitter from the `DocumentSplitter` class, for instance: `word`, `sentence`, `page`.\n",
        "\n",
        "`SentenceWindowRetriever(document_store=doc_store, window_size=2)`"
      ]
    },
    {
      "cell_type": "markdown",
      "id": "784caaa2",
      "metadata": {
        "id": "784caaa2"
      },
      "source": [
        "\n",
        "## Preparing the Colab Environment\n",
        "\n",
        "- [Enable GPU Runtime](https://docs.haystack.deepset.ai/docs/enabling-gpu-acceleration#enabling-the-gpu-in-colab)\n"
      ]
    },
    {
      "cell_type": "markdown",
      "id": "98c2f9d3",
      "metadata": {
        "id": "98c2f9d3"
      },
      "source": [
        "## Installing Haystack\n",
        "\n",
        "To start, install the latest release of Haystack with `pip`:"
      ]
    },
    {
      "cell_type": "code",
      "execution_count": 1,
      "id": "fae70eb2",
      "metadata": {
        "id": "fae70eb2",
        "outputId": "56970560-5851-4b1f-f418-4f2e48139acf",
        "colab": {
          "base_uri": "https://localhost:8080/"
        }
      },
      "outputs": [
        {
          "output_type": "stream",
          "name": "stdout",
          "text": [
            "Requirement already satisfied: pip in /usr/local/lib/python3.10/dist-packages (24.1.2)\n",
            "Collecting pip\n",
            "  Downloading pip-24.3.1-py3-none-any.whl.metadata (3.7 kB)\n",
            "Downloading pip-24.3.1-py3-none-any.whl (1.8 MB)\n",
            "   ━━━━━━━━━━━━━━━━━━━━━━━━━━━━━━━━━━━━━━━━ 1.8/1.8 MB 18.0 MB/s eta 0:00:00\n",
            "Installing collected packages: pip\n",
            "  Attempting uninstall: pip\n",
            "    Found existing installation: pip 24.1.2\n",
            "    Uninstalling pip-24.1.2:\n",
            "      Successfully uninstalled pip-24.1.2\n",
            "Successfully installed pip-24.3.1\n",
            "Collecting haystack-ai\n",
            "  Downloading haystack_ai-2.8.0-py3-none-any.whl.metadata (13 kB)\n",
            "Collecting haystack-experimental (from haystack-ai)\n",
            "  Downloading haystack_experimental-0.4.0-py3-none-any.whl.metadata (16 kB)\n",
            "Requirement already satisfied: jinja2 in /usr/local/lib/python3.10/dist-packages (from haystack-ai) (3.1.5)\n",
            "Collecting lazy-imports (from haystack-ai)\n",
            "  Downloading lazy_imports-0.4.0-py3-none-any.whl.metadata (10 kB)\n",
            "Requirement already satisfied: more-itertools in /usr/local/lib/python3.10/dist-packages (from haystack-ai) (10.5.0)\n",
            "Requirement already satisfied: networkx in /usr/local/lib/python3.10/dist-packages (from haystack-ai) (3.4.2)\n",
            "Requirement already satisfied: numpy in /usr/local/lib/python3.10/dist-packages (from haystack-ai) (1.26.4)\n",
            "Requirement already satisfied: openai>=1.1.0 in /usr/local/lib/python3.10/dist-packages (from haystack-ai) (1.59.3)\n",
            "Requirement already satisfied: pandas in /usr/local/lib/python3.10/dist-packages (from haystack-ai) (2.2.2)\n",
            "Collecting posthog (from haystack-ai)\n",
            "  Downloading posthog-3.7.5-py2.py3-none-any.whl.metadata (2.0 kB)\n",
            "Requirement already satisfied: python-dateutil in /usr/local/lib/python3.10/dist-packages (from haystack-ai) (2.8.2)\n",
            "Requirement already satisfied: pyyaml in /usr/local/lib/python3.10/dist-packages (from haystack-ai) (6.0.2)\n",
            "Requirement already satisfied: requests in /usr/local/lib/python3.10/dist-packages (from haystack-ai) (2.32.3)\n",
            "Requirement already satisfied: tenacity!=8.4.0 in /usr/local/lib/python3.10/dist-packages (from haystack-ai) (9.0.0)\n",
            "Requirement already satisfied: tqdm in /usr/local/lib/python3.10/dist-packages (from haystack-ai) (4.67.1)\n",
            "Requirement already satisfied: typing-extensions>=4.7 in /usr/local/lib/python3.10/dist-packages (from haystack-ai) (4.12.2)\n",
            "Requirement already satisfied: anyio<5,>=3.5.0 in /usr/local/lib/python3.10/dist-packages (from openai>=1.1.0->haystack-ai) (3.7.1)\n",
            "Requirement already satisfied: distro<2,>=1.7.0 in /usr/local/lib/python3.10/dist-packages (from openai>=1.1.0->haystack-ai) (1.9.0)\n",
            "Requirement already satisfied: httpx<1,>=0.23.0 in /usr/local/lib/python3.10/dist-packages (from openai>=1.1.0->haystack-ai) (0.28.1)\n",
            "Requirement already satisfied: jiter<1,>=0.4.0 in /usr/local/lib/python3.10/dist-packages (from openai>=1.1.0->haystack-ai) (0.8.2)\n",
            "Requirement already satisfied: pydantic<3,>=1.9.0 in /usr/local/lib/python3.10/dist-packages (from openai>=1.1.0->haystack-ai) (2.10.4)\n",
            "Requirement already satisfied: sniffio in /usr/local/lib/python3.10/dist-packages (from openai>=1.1.0->haystack-ai) (1.3.1)\n",
            "Requirement already satisfied: MarkupSafe>=2.0 in /usr/local/lib/python3.10/dist-packages (from jinja2->haystack-ai) (3.0.2)\n",
            "Requirement already satisfied: pytz>=2020.1 in /usr/local/lib/python3.10/dist-packages (from pandas->haystack-ai) (2024.2)\n",
            "Requirement already satisfied: tzdata>=2022.7 in /usr/local/lib/python3.10/dist-packages (from pandas->haystack-ai) (2024.2)\n",
            "Requirement already satisfied: six>=1.5 in /usr/local/lib/python3.10/dist-packages (from python-dateutil->haystack-ai) (1.17.0)\n",
            "Collecting monotonic>=1.5 (from posthog->haystack-ai)\n",
            "  Downloading monotonic-1.6-py2.py3-none-any.whl.metadata (1.5 kB)\n",
            "Collecting backoff>=1.10.0 (from posthog->haystack-ai)\n",
            "  Downloading backoff-2.2.1-py3-none-any.whl.metadata (14 kB)\n",
            "Requirement already satisfied: charset-normalizer<4,>=2 in /usr/local/lib/python3.10/dist-packages (from requests->haystack-ai) (3.4.1)\n",
            "Requirement already satisfied: idna<4,>=2.5 in /usr/local/lib/python3.10/dist-packages (from requests->haystack-ai) (3.10)\n",
            "Requirement already satisfied: urllib3<3,>=1.21.1 in /usr/local/lib/python3.10/dist-packages (from requests->haystack-ai) (2.3.0)\n",
            "Requirement already satisfied: certifi>=2017.4.17 in /usr/local/lib/python3.10/dist-packages (from requests->haystack-ai) (2024.12.14)\n",
            "Requirement already satisfied: exceptiongroup in /usr/local/lib/python3.10/dist-packages (from anyio<5,>=3.5.0->openai>=1.1.0->haystack-ai) (1.2.2)\n",
            "Requirement already satisfied: httpcore==1.* in /usr/local/lib/python3.10/dist-packages (from httpx<1,>=0.23.0->openai>=1.1.0->haystack-ai) (1.0.7)\n",
            "Requirement already satisfied: h11<0.15,>=0.13 in /usr/local/lib/python3.10/dist-packages (from httpcore==1.*->httpx<1,>=0.23.0->openai>=1.1.0->haystack-ai) (0.14.0)\n",
            "Requirement already satisfied: annotated-types>=0.6.0 in /usr/local/lib/python3.10/dist-packages (from pydantic<3,>=1.9.0->openai>=1.1.0->haystack-ai) (0.7.0)\n",
            "Requirement already satisfied: pydantic-core==2.27.2 in /usr/local/lib/python3.10/dist-packages (from pydantic<3,>=1.9.0->openai>=1.1.0->haystack-ai) (2.27.2)\n",
            "Downloading haystack_ai-2.8.0-py3-none-any.whl (391 kB)\n",
            "Downloading haystack_experimental-0.4.0-py3-none-any.whl (109 kB)\n",
            "Downloading lazy_imports-0.4.0-py3-none-any.whl (12 kB)\n",
            "Downloading posthog-3.7.5-py2.py3-none-any.whl (54 kB)\n",
            "Downloading backoff-2.2.1-py3-none-any.whl (15 kB)\n",
            "Downloading monotonic-1.6-py2.py3-none-any.whl (8.2 kB)\n",
            "Installing collected packages: monotonic, lazy-imports, backoff, posthog, haystack-experimental, haystack-ai\n",
            "Successfully installed backoff-2.2.1 haystack-ai-2.8.0 haystack-experimental-0.4.0 lazy-imports-0.4.0 monotonic-1.6 posthog-3.7.5\n"
          ]
        }
      ],
      "source": [
        "%%bash\n",
        "\n",
        "pip install --upgrade pip\n",
        "pip install haystack-ai"
      ]
    },
    {
      "cell_type": "markdown",
      "id": "3aacfc13",
      "metadata": {
        "id": "3aacfc13"
      },
      "source": [
        "### Enabling Telemetry\n",
        "Knowing you're using this tutorial helps us decide where to invest our efforts to build a better product but you can always opt out by commenting the following line. See [Telemetry](https://docs.haystack.deepset.ai/docs/telemetry) for more details."
      ]
    },
    {
      "cell_type": "code",
      "execution_count": 2,
      "id": "06f0c0c4",
      "metadata": {
        "id": "06f0c0c4"
      },
      "outputs": [],
      "source": [
        "from haystack.telemetry import tutorial_running\n",
        "\n",
        "tutorial_running(42)"
      ]
    },
    {
      "cell_type": "markdown",
      "id": "ee689359-94bf-45b6-b69b-f17266382ff8",
      "metadata": {
        "id": "ee689359-94bf-45b6-b69b-f17266382ff8"
      },
      "source": [
        "## Getting started with Sentence-Window Retrieval\n",
        "\n",
        "Let's see a simple example of how to use the `SentenceWindowRetriever` in isolation, and later we can see how to use it within a pipeline. We start by creating a document and splitting it into sentences using the `DocumentSplitter` class."
      ]
    },
    {
      "cell_type": "code",
      "execution_count": 3,
      "id": "fb04d1f9-5329-499c-9479-7e3b4b4fa126",
      "metadata": {
        "id": "fb04d1f9-5329-499c-9479-7e3b4b4fa126"
      },
      "outputs": [],
      "source": [
        "from haystack import Document\n",
        "from haystack.components.preprocessors import DocumentSplitter\n",
        "splitter = DocumentSplitter(split_length=1, split_overlap=0, split_by=\"sentence\")\n",
        "\n",
        "text = (\"Paul fell asleep to dream of an Arrakeen cavern, silent people all around  him moving in the dim light \"\n",
        "        \"of glowglobes. It was solemn there and like a cathedral as he listened to a faint sound—the \"\n",
        "        \"drip-drip-drip of water. Even while he remained in the dream, Paul knew he would remember it upon \"\n",
        "        \"awakening. He always remembered the dreams that were predictions. The dream faded. Paul awoke to feel \"\n",
        "        \"himself in the warmth of his bed—thinking thinking. This world of Castle Caladan, without play or \"\n",
        "        \"companions his own age,  perhaps did not deserve sadness in farewell. Dr Yueh, his teacher, had \"\n",
        "        \"hinted  that the faufreluches class system was not rigidly guarded on Arrakis. The planet sheltered \"\n",
        "        \"people who lived at the desert edge without caid or bashar to command them: will-o’-the-sand people \"\n",
        "        \"called Fremen, marked down on no  census of the Imperial Regate.\")\n",
        "\n",
        "doc = Document(content=text)\n",
        "docs = splitter.run([doc])"
      ]
    },
    {
      "cell_type": "markdown",
      "id": "61d94c11-4c32-4022-979d-8316f9069ac8",
      "metadata": {
        "id": "61d94c11-4c32-4022-979d-8316f9069ac8"
      },
      "source": [
        "This will result in 9 sentences represented as Haystack Document objects. We can then write these documents to a DocumentStore and use the SentenceWindowRetriever to retrieve a window of sentences around a matching sentence."
      ]
    },
    {
      "cell_type": "code",
      "execution_count": 4,
      "id": "24a7fd39-19df-486e-9914-166dc3e77cc4",
      "metadata": {
        "id": "24a7fd39-19df-486e-9914-166dc3e77cc4",
        "outputId": "dbfaf71b-0f85-44f5-f76d-73a9598f6b0c",
        "colab": {
          "base_uri": "https://localhost:8080/"
        }
      },
      "outputs": [
        {
          "output_type": "execute_result",
          "data": {
            "text/plain": [
              "9"
            ]
          },
          "metadata": {},
          "execution_count": 4
        }
      ],
      "source": [
        "from haystack.document_stores.in_memory import InMemoryDocumentStore\n",
        "from haystack.document_stores.types import DuplicatePolicy\n",
        "\n",
        "doc_store = InMemoryDocumentStore()\n",
        "doc_store.write_documents(docs['documents'], policy=DuplicatePolicy.OVERWRITE)"
      ]
    },
    {
      "cell_type": "markdown",
      "id": "a1253dd5-e71e-4a26-814d-e8d256750aff",
      "metadata": {
        "id": "a1253dd5-e71e-4a26-814d-e8d256750aff"
      },
      "source": [
        "Now we use the `SentenceWindowRetriever` to retrieve a window of sentences around a certain sentence. Note that the `SentenceWindowRetriever` receives as input in run time a `Document` present in the document store, and it will rely on the documents metadata to retrieve the window of sentences around the matching sentence. So, one important aspect to notice is that the `SentenceWindowRetriever` needs to be used in conjunction with another `Retriever` that handles the initial user query, such as the `InMemoryBM25Retriever`, and returns the matching documents.\n",
        "\n",
        "Let's pass the Document containing the sentence `The dream faded.` to the `SentenceWindowRetriever` and retrieve a window of 2 sentences around it. Note that we need to wrap it in a list as the `run` method expects a list of documents."
      ]
    },
    {
      "cell_type": "code",
      "execution_count": 5,
      "id": "c028b53b-e68c-4b02-bd83-f9096aa54079",
      "metadata": {
        "id": "c028b53b-e68c-4b02-bd83-f9096aa54079"
      },
      "outputs": [],
      "source": [
        "from haystack.components.retrievers import SentenceWindowRetriever\n",
        "\n",
        "retriever = SentenceWindowRetriever(document_store=doc_store, window_size=2)\n",
        "result = retriever.run(retrieved_documents=[docs['documents'][4]])"
      ]
    },
    {
      "cell_type": "markdown",
      "id": "0992d153-6770-4519-a930-6b4c85115611",
      "metadata": {
        "id": "0992d153-6770-4519-a930-6b4c85115611"
      },
      "source": [
        "The result is a dictionary with two keys:\n",
        "\n",
        "- `context_windows`: a list of strings containing the context windows around the matching sentence.\n",
        "- `context_documents`: a list of lists of `Document` objects containing the context windows around the matching sentence."
      ]
    },
    {
      "cell_type": "code",
      "execution_count": 6,
      "id": "b92920a5-5937-4f6b-87fb-a68db4c79401",
      "metadata": {
        "id": "b92920a5-5937-4f6b-87fb-a68db4c79401",
        "outputId": "0bce4a72-570a-40da-b55d-8145fd593bb9",
        "colab": {
          "base_uri": "https://localhost:8080/"
        }
      },
      "outputs": [
        {
          "output_type": "execute_result",
          "data": {
            "text/plain": [
              "[' Even while he remained in the dream, Paul knew he would remember it upon awakening. He always remembered the dreams that were predictions. The dream faded. Paul awoke to feel himself in the warmth of his bed—thinking thinking. This world of Castle Caladan, without play or companions his own age,  perhaps did not deserve sadness in farewell.']"
            ]
          },
          "metadata": {},
          "execution_count": 6
        }
      ],
      "source": [
        "result['context_windows']"
      ]
    },
    {
      "cell_type": "code",
      "execution_count": 7,
      "id": "faded9fe-725a-4b50-8855-7356ec0749e7",
      "metadata": {
        "id": "faded9fe-725a-4b50-8855-7356ec0749e7",
        "outputId": "bb569e20-765b-43dc-b313-130f84431126",
        "colab": {
          "base_uri": "https://localhost:8080/"
        }
      },
      "outputs": [
        {
          "output_type": "execute_result",
          "data": {
            "text/plain": [
              "[[Document(id=5d093b6ec1a4bdc7e75f033ae0b570e237053213a09b42a56ad815b4d118943d, content: ' Even while he remained in the dream, Paul knew he would remember it upon awakening.', meta: {'source_id': 'b56504f244b7b650096b14d678bc82f3d7fe240bb135361c6a23a14c4b809596', 'page_number': 1, 'split_id': 2, 'split_idx_start': 219}),\n",
              "  Document(id=4ed71ff61df531053cc7d5f80e8a0bd1e702f3a396f3f3983ceeffe89878a684, content: ' He always remembered the dreams that were predictions.', meta: {'source_id': 'b56504f244b7b650096b14d678bc82f3d7fe240bb135361c6a23a14c4b809596', 'page_number': 1, 'split_id': 3, 'split_idx_start': 303}),\n",
              "  Document(id=f485258001abdf2deab98249c7f0826b4f6b1bef7c37763d14318e7b595f434f, content: ' The dream faded.', meta: {'source_id': 'b56504f244b7b650096b14d678bc82f3d7fe240bb135361c6a23a14c4b809596', 'page_number': 1, 'split_id': 4, 'split_idx_start': 358}),\n",
              "  Document(id=f39c29c3a3122affc5909dc7b98f5880d9bd984731380420134c440da6fee363, content: ' Paul awoke to feel himself in the warmth of his bed—thinking thinking.', meta: {'source_id': 'b56504f244b7b650096b14d678bc82f3d7fe240bb135361c6a23a14c4b809596', 'page_number': 1, 'split_id': 5, 'split_idx_start': 375}),\n",
              "  Document(id=15401623a2a4fed533db7c1bbe8df157f79a9395cf8d3d6e92dc5ae553d0dded, content: ' This world of Castle Caladan, without play or companions his own age,  perhaps did not deserve sadn...', meta: {'source_id': 'b56504f244b7b650096b14d678bc82f3d7fe240bb135361c6a23a14c4b809596', 'page_number': 1, 'split_id': 6, 'split_idx_start': 446})]]"
            ]
          },
          "metadata": {},
          "execution_count": 7
        }
      ],
      "source": [
        "result['context_documents']"
      ]
    },
    {
      "cell_type": "markdown",
      "id": "289e207c-7f8f-45da-bdfd-61ed4955942d",
      "metadata": {
        "id": "289e207c-7f8f-45da-bdfd-61ed4955942d"
      },
      "source": [
        "## Create a Keyword Retrieval Pipeline with Sentence-Window Retrieval"
      ]
    },
    {
      "cell_type": "markdown",
      "id": "6bc10c96-e453-4e43-9b64-d05fae6de040",
      "metadata": {
        "id": "6bc10c96-e453-4e43-9b64-d05fae6de040"
      },
      "source": [
        "Let's see this component in action. We will use the BBC news dataset to show how the `SentenceWindowRetriever` works with a dataset containing multiple news articles.\n",
        "\n",
        "### Reading the dataset\n",
        "\n",
        "The original dataset is available at http://mlg.ucd.ie/datasets/bbc.html, but  it was already preprocessed and stored in\n",
        "a single CSV file available here: https://raw.githubusercontent.com/amankharwal/Website-data/master/bbc-news-data.csv"
      ]
    },
    {
      "cell_type": "code",
      "execution_count": 8,
      "id": "82565cae-a730-4cd7-85f3-40be0e77b94d",
      "metadata": {
        "id": "82565cae-a730-4cd7-85f3-40be0e77b94d"
      },
      "outputs": [],
      "source": [
        "from typing import List\n",
        "import csv\n",
        "from haystack import Document\n",
        "\n",
        "def read_documents(file: str) -> List[Document]:\n",
        "    with open(file, \"r\") as file:\n",
        "        reader = csv.reader(file, delimiter=\"\\t\")\n",
        "        next(reader, None)  # skip the headers\n",
        "        documents = []\n",
        "        for row in reader:\n",
        "            category = row[0].strip()\n",
        "            title = row[2].strip()\n",
        "            text = row[3].strip()\n",
        "            documents.append(Document(content=text, meta={\"category\": category, \"title\": title}))\n",
        "\n",
        "    return documents"
      ]
    },
    {
      "cell_type": "code",
      "execution_count": 9,
      "id": "4f581e8b-0693-4b09-b82e-71e78cb83f1a",
      "metadata": {
        "id": "4f581e8b-0693-4b09-b82e-71e78cb83f1a"
      },
      "outputs": [],
      "source": [
        "from pathlib import Path\n",
        "import requests\n",
        "\n",
        "doc = requests.get('https://raw.githubusercontent.com/amankharwal/Website-data/master/bbc-news-data.csv')\n",
        "\n",
        "datafolder = Path('data')\n",
        "datafolder.mkdir(exist_ok=True)\n",
        "with open(datafolder/'bbc-news-data.csv', 'wb') as f:\n",
        "    for chunk in doc.iter_content(512):\n",
        "        f.write(chunk)"
      ]
    },
    {
      "cell_type": "code",
      "execution_count": 10,
      "id": "1ab23051-7df1-49e6-a009-ba187855aab3",
      "metadata": {
        "id": "1ab23051-7df1-49e6-a009-ba187855aab3",
        "outputId": "85b05c4d-6908-4897-90dc-7ebd1a9876bd",
        "colab": {
          "base_uri": "https://localhost:8080/"
        }
      },
      "outputs": [
        {
          "output_type": "execute_result",
          "data": {
            "text/plain": [
              "2225"
            ]
          },
          "metadata": {},
          "execution_count": 10
        }
      ],
      "source": [
        "docs = read_documents(\"data/bbc-news-data.csv\")\n",
        "len(docs)"
      ]
    },
    {
      "cell_type": "markdown",
      "id": "4a003472-19c1-4bc0-b6df-995bc66e8904",
      "metadata": {
        "id": "4a003472-19c1-4bc0-b6df-995bc66e8904"
      },
      "source": [
        "### Indexing the documents\n",
        "\n",
        "We will now apply the `DocumentSplitter` to split the documents into sentences and write them to an `InMemoryDocumentStore`."
      ]
    },
    {
      "cell_type": "code",
      "execution_count": 11,
      "id": "eb3203f3-2f75-4a60-9d2a-f530a09113a0",
      "metadata": {
        "id": "eb3203f3-2f75-4a60-9d2a-f530a09113a0",
        "outputId": "4b3c8cd1-a23b-43fe-d77c-f162aa5952c2",
        "colab": {
          "base_uri": "https://localhost:8080/"
        }
      },
      "outputs": [
        {
          "output_type": "execute_result",
          "data": {
            "text/plain": [
              "{'writer': {'documents_written': 44186}}"
            ]
          },
          "metadata": {},
          "execution_count": 11
        }
      ],
      "source": [
        "from haystack import Document, Pipeline\n",
        "from haystack.components.preprocessors import DocumentSplitter\n",
        "from haystack.components.writers import DocumentWriter\n",
        "from haystack.document_stores.in_memory import InMemoryDocumentStore\n",
        "from haystack.document_stores.types import DuplicatePolicy\n",
        "\n",
        "doc_store = InMemoryDocumentStore()\n",
        "\n",
        "indexing_pipeline = Pipeline()\n",
        "indexing_pipeline.add_component(\"splitter\", DocumentSplitter(split_length=1, split_overlap=0, split_by=\"sentence\"))\n",
        "indexing_pipeline.add_component(\"writer\", DocumentWriter(document_store=doc_store, policy=DuplicatePolicy.OVERWRITE))\n",
        "\n",
        "indexing_pipeline.connect(\"splitter\", \"writer\")\n",
        "\n",
        "indexing_pipeline.run({\"documents\":docs})"
      ]
    },
    {
      "cell_type": "markdown",
      "id": "a0b6030d-ace7-471e-ae5f-b7dfc0ec1064",
      "metadata": {
        "id": "a0b6030d-ace7-471e-ae5f-b7dfc0ec1064"
      },
      "source": [
        "### Build a Sentence-Window Retrieval Pipeline\n",
        "\n",
        "Let's now build a pipeline to retrieve the documents using the `InMemoryBM25Retriever` (with keyword retrieval) and the `SentenceWindowRetriever`. Here, we are setting up the retriever with a `window_size` of 2"
      ]
    },
    {
      "cell_type": "code",
      "execution_count": 12,
      "id": "7048bc9c-8c6a-4df0-92c4-20b6162cfdb4",
      "metadata": {
        "id": "7048bc9c-8c6a-4df0-92c4-20b6162cfdb4",
        "outputId": "7adf9eec-f0c0-4972-b234-dd3212f2c9c4",
        "colab": {
          "base_uri": "https://localhost:8080/"
        }
      },
      "outputs": [
        {
          "output_type": "execute_result",
          "data": {
            "text/plain": [
              "<haystack.core.pipeline.pipeline.Pipeline object at 0x7e1bf5c15510>\n",
              "🚅 Components\n",
              "  - bm25_retriever: InMemoryBM25Retriever\n",
              "  - sentence_window__retriever: SentenceWindowRetriever\n",
              "🛤️ Connections\n",
              "  - bm25_retriever.documents -> sentence_window__retriever.retrieved_documents (List[Document])"
            ]
          },
          "metadata": {},
          "execution_count": 12
        }
      ],
      "source": [
        "from haystack.components.retrievers.in_memory import InMemoryBM25Retriever\n",
        "from haystack.components.retrievers import SentenceWindowRetriever\n",
        "\n",
        "sentence_window_pipeline = Pipeline()\n",
        "\n",
        "sentence_window_pipeline.add_component(\"bm25_retriever\", InMemoryBM25Retriever(document_store=doc_store))\n",
        "sentence_window_pipeline.add_component(\"sentence_window__retriever\", SentenceWindowRetriever(doc_store, window_size=2))\n",
        "\n",
        "sentence_window_pipeline.connect(\"bm25_retriever.documents\", \"sentence_window__retriever.retrieved_documents\")"
      ]
    },
    {
      "cell_type": "markdown",
      "id": "e67abab4-10c1-4d95-b8fe-1ff24bb93161",
      "metadata": {
        "id": "e67abab4-10c1-4d95-b8fe-1ff24bb93161"
      },
      "source": [
        "### Putting it all together\n",
        "\n",
        "Let's see what happens when we retrieve documents relevant to \"phishing attacks\", returning only the highest scored document.\n",
        "We will also include the outputs from the `InMemoryBM25Retriever` so that we can compare the results with and without the `SentenceWindowRetriever`."
      ]
    },
    {
      "cell_type": "code",
      "execution_count": 13,
      "id": "fdadd81e-3a4c-474d-9a92-85fa2f6a1264",
      "metadata": {
        "id": "fdadd81e-3a4c-474d-9a92-85fa2f6a1264"
      },
      "outputs": [],
      "source": [
        "result = sentence_window_pipeline.run(data={'bm25_retriever': {'query': \"phishing attacks\", \"top_k\": 1}}, include_outputs_from={'bm25_retriever'})"
      ]
    },
    {
      "cell_type": "markdown",
      "id": "bbda91dc-238e-44a8-a241-9c35115efe88",
      "metadata": {
        "id": "bbda91dc-238e-44a8-a241-9c35115efe88"
      },
      "source": [
        "Let's now inspect the results from the `InMemoryBM25Retriever` and the `SentenceWindowRetriever`. Since we split the documents by sentence, the `InMemoryBM25Retriever` returns only the sentence associated with the matching query."
      ]
    },
    {
      "cell_type": "code",
      "execution_count": 14,
      "id": "ff53bf0b-ec2f-49aa-a5ff-82e0686ac81d",
      "metadata": {
        "id": "ff53bf0b-ec2f-49aa-a5ff-82e0686ac81d",
        "outputId": "94ddfb8a-c0cf-49dc-9802-ba6f36d5ff4b",
        "colab": {
          "base_uri": "https://localhost:8080/"
        }
      },
      "outputs": [
        {
          "output_type": "execute_result",
          "data": {
            "text/plain": [
              "[Document(id=57766497f35c7ebef5c49e754b8df41a8df3d5df3e46bc595807d7420d7cef8e, content: ' The Anti-Phishing Working group reported that the number of phishing attacks against new targets wa...', meta: {'category': 'tech', 'title': 'Cyber crime booms in 2004', 'source_id': '5c81f8cbd6c9c07819bf60e484489fe0af9e6626591ec77066701cb856fb3b33', 'page_number': 1, 'split_id': 12, 'split_idx_start': 1520}, score: 17.74585935028894)]"
            ]
          },
          "metadata": {},
          "execution_count": 14
        }
      ],
      "source": [
        "result['bm25_retriever']['documents']"
      ]
    },
    {
      "cell_type": "markdown",
      "id": "aca630e2-f0a9-4a07-bdcb-5f7e10415802",
      "metadata": {
        "id": "aca630e2-f0a9-4a07-bdcb-5f7e10415802"
      },
      "source": [
        "The `SentenceWindowRetriever`, on the other hand, returns a window of sentences around the matching sentence, giving us more context to understand the sentence."
      ]
    },
    {
      "cell_type": "code",
      "execution_count": 15,
      "id": "b3453305-b536-460f-be3f-8fc6d7169673",
      "metadata": {
        "id": "b3453305-b536-460f-be3f-8fc6d7169673",
        "outputId": "b5748dfc-9fdf-42db-fa21-b618fe5fb712",
        "colab": {
          "base_uri": "https://localhost:8080/"
        }
      },
      "outputs": [
        {
          "output_type": "execute_result",
          "data": {
            "text/plain": [
              "['\"  In particular, phishing attacks, which typically use fake versions of bank websites to grab login details of customers, boomed during 2004. Web portal Lycos Europe reported a 500% increase in the number of phishing e-mail messages it was catching. The Anti-Phishing Working group reported that the number of phishing attacks against new targets was growing at a rate of 30% or more per month. Those who fall victim to these attacks can find that their bank account has been cleaned out or that their good name has been ruined by someone stealing their identity. This change in the ranks of virus writers could mean the end of the mass-mailing virus which attempts to spread by tricking people into opening infected attachments on e-mail messages.']"
            ]
          },
          "metadata": {},
          "execution_count": 15
        }
      ],
      "source": [
        "result['sentence_window__retriever']['context_windows']"
      ]
    },
    {
      "cell_type": "markdown",
      "id": "bbbf6f9f",
      "metadata": {
        "id": "bbbf6f9f"
      },
      "source": [
        "We are also able to access the context window as a list of `Document`"
      ]
    },
    {
      "cell_type": "code",
      "execution_count": 16,
      "id": "6b5fd252",
      "metadata": {
        "id": "6b5fd252",
        "outputId": "cc741040-e6f3-44b9-ebcd-94c457f162b1",
        "colab": {
          "base_uri": "https://localhost:8080/"
        }
      },
      "outputs": [
        {
          "output_type": "execute_result",
          "data": {
            "text/plain": [
              "[[Document(id=905582f4a147cae72b90223e433db5986c4ff46d8c8a325fe56ea3cfbecff742, content: '\"  In particular, phishing attacks, which typically use fake versions of bank websites to grab login...', meta: {'category': 'tech', 'title': 'Cyber crime booms in 2004', 'source_id': '5c81f8cbd6c9c07819bf60e484489fe0af9e6626591ec77066701cb856fb3b33', 'page_number': 1, 'split_id': 10, 'split_idx_start': 1270}),\n",
              "  Document(id=91f6969683e714cddf3ef4816616176d7e467bb7756eb4051f0aa5f15e7bcabd, content: ' Web portal Lycos Europe reported a 500% increase in the number of phishing e-mail messages it was c...', meta: {'category': 'tech', 'title': 'Cyber crime booms in 2004', 'source_id': '5c81f8cbd6c9c07819bf60e484489fe0af9e6626591ec77066701cb856fb3b33', 'page_number': 1, 'split_id': 11, 'split_idx_start': 1412}),\n",
              "  Document(id=57766497f35c7ebef5c49e754b8df41a8df3d5df3e46bc595807d7420d7cef8e, content: ' The Anti-Phishing Working group reported that the number of phishing attacks against new targets wa...', meta: {'category': 'tech', 'title': 'Cyber crime booms in 2004', 'source_id': '5c81f8cbd6c9c07819bf60e484489fe0af9e6626591ec77066701cb856fb3b33', 'page_number': 1, 'split_id': 12, 'split_idx_start': 1520}),\n",
              "  Document(id=5ed9c84a161ee527527a3bb0c7b90dddee368a840860c672623408d90d399de0, content: ' Those who fall victim to these attacks can find that their bank account has been cleaned out or tha...', meta: {'category': 'tech', 'title': 'Cyber crime booms in 2004', 'source_id': '5c81f8cbd6c9c07819bf60e484489fe0af9e6626591ec77066701cb856fb3b33', 'page_number': 1, 'split_id': 13, 'split_idx_start': 1665}),\n",
              "  Document(id=08d1d6c1e05b68d626a37bf0f863affca8eda54aad886b27583b4c783d1bd308, content: ' This change in the ranks of virus writers could mean the end of the mass-mailing virus which attemp...', meta: {'category': 'tech', 'title': 'Cyber crime booms in 2004', 'source_id': '5c81f8cbd6c9c07819bf60e484489fe0af9e6626591ec77066701cb856fb3b33', 'page_number': 1, 'split_id': 14, 'split_idx_start': 1834})]]"
            ]
          },
          "metadata": {},
          "execution_count": 16
        }
      ],
      "source": [
        "result['sentence_window__retriever']['context_documents']"
      ]
    },
    {
      "cell_type": "markdown",
      "id": "06614ff0-7b82-46dc-8416-a78633704583",
      "metadata": {
        "id": "06614ff0-7b82-46dc-8416-a78633704583"
      },
      "source": [
        "## Wrapping Up\n",
        "\n",
        "We saw how the `SentenceWindowRetriever` works and how it can be used to retrieve a window of sentences around a matching document, give us more context to understand the document. One important aspect to notice is that the `SentenceWindowRetriever` doesn't handle queries directly but relies on the output of another `Retriever` that handles the initial user query. This allows the `SentenceWindowRetriever` to be used in conjunction with any other retriever in the pipeline, such as the `InMemoryBM25Retriever`."
      ]
    }
  ],
  "metadata": {
    "kernelspec": {
      "display_name": "tutorials",
      "language": "python",
      "name": "python3"
    },
    "language_info": {
      "codemirror_mode": {
        "name": "ipython",
        "version": 3
      },
      "file_extension": ".py",
      "mimetype": "text/x-python",
      "name": "python",
      "nbconvert_exporter": "python",
      "pygments_lexer": "ipython3",
      "version": "3.12.4"
    },
    "colab": {
      "provenance": [],
      "include_colab_link": true
    }
  },
  "nbformat": 4,
  "nbformat_minor": 5
}